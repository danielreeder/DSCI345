{
 "cells": [
  {
   "cell_type": "code",
   "execution_count": 5,
   "id": "81af7615-8aef-473c-b85d-39352f5f75d4",
   "metadata": {},
   "outputs": [],
   "source": [
    "import numpy as np\n",
    "import math as m\n",
    "import matplotlib.pyplot as plt\n",
    "import scipy.stats as sp"
   ]
  },
  {
   "cell_type": "code",
   "execution_count": 6,
   "id": "fa381a59-c63d-42e2-b60a-82e718a08747",
   "metadata": {},
   "outputs": [],
   "source": [
    "bg_level = 50 # ppb\n",
    "measurements = np.array([30, 74, 48, 84, 78])\n",
    "n = 5 \n",
    "df = 4"
   ]
  },
  {
   "cell_type": "code",
   "execution_count": 80,
   "id": "fe7966e2-c2fa-428b-806c-5e965766b57c",
   "metadata": {},
   "outputs": [
    {
     "name": "stdout",
     "output_type": "stream",
     "text": [
      "Mean: 62.8\n",
      "SD: 22.91724241700995\n",
      "Standard Error: 10.248902380255165\n"
     ]
    }
   ],
   "source": [
    "# (a)\n",
    "\n",
    "mean = np.mean(measurements)\n",
    "sd = np.std(measurements, ddof=1)\n",
    "sderr = sd / m.sqrt(n)\n",
    "print(f\"Mean: {mean}\\nSD: {sd}\\nStandard Error: {sderr}\")"
   ]
  },
  {
   "cell_type": "markdown",
   "id": "808cc4d9-a6dc-4120-9986-51cca4defed3",
   "metadata": {},
   "source": [
    "**# (b)**\n",
    "\n",
    "Null hypothesis: The average concentration of ozone in unpolluted tropospheric air has not elevated above the background.\n",
    "This is a one-tailed test because we are only looking at values *above*."
   ]
  },
  {
   "cell_type": "code",
   "execution_count": 34,
   "id": "abdf20dd-ce42-42cb-94ab-02bf21dbdc76",
   "metadata": {},
   "outputs": [
    {
     "name": "stdout",
     "output_type": "stream",
     "text": [
      "No, we can't reject the null at a statistical significance level of 0.05 because we got a p-value of 0.1398984745088393. 1.2489142276015432\n"
     ]
    }
   ],
   "source": [
    "# (c)\n",
    "\n",
    "t = (mean - bg_level) / sderr\n",
    "p = 1 - sp.t.cdf(t, df=df)\n",
    "p\n",
    "print(f\"No, we can't reject the null at a statistical significance level of 0.05 because we got a p-value of {p}. {t}\")"
   ]
  },
  {
   "cell_type": "markdown",
   "id": "5e5a44db-91d5-4bfe-8493-f423000aeed3",
   "metadata": {},
   "source": [
    "**# (d)**\n",
    "\n",
    "The p-value we got in (c) means that we can reject the null with a significance value of 0.12. Conceptually speaking, alpha is the probability that we would see results as extreme as our sample, given that the null hypothesis is true (i.e. given that, in reality, pollution has not rasied ozone concentrations above the background)."
   ]
  },
  {
   "cell_type": "code",
   "execution_count": 35,
   "id": "225c7258-c716-417b-8d1f-2c717b0428b4",
   "metadata": {},
   "outputs": [
    {
     "data": {
      "text/plain": [
       "(71.84908955157681, 21.849089551576814, 0.05000000028058349, 2.13184678133629)"
      ]
     },
     "execution_count": 35,
     "metadata": {},
     "output_type": "execute_result"
    }
   ],
   "source": [
    "# (e)\n",
    "\n",
    "t_crit = sp.t.ppf(0.95, df=df)\n",
    "diff = bg_level + (t_crit * sderr)\n",
    "lsd = t_crit*sderr\n",
    "pl = 1 - sp.t.cdf(lsd/sderr, df=df)\n",
    "diff, lsd, pl, t_crit\n",
    "\n",
    "# The LSD is 21.8"
   ]
  },
  {
   "cell_type": "code",
   "execution_count": 44,
   "id": "0ce3f27a-9ac6-43b5-94b4-af1cb6a7c0ce",
   "metadata": {},
   "outputs": [
    {
     "name": "stdout",
     "output_type": "stream",
     "text": [
      "Guess n: 10\tTcrit: 1.8331129326536335\tLSN: 10.771674488112337\n",
      "Guess n: 11\tTcrit: 1.8167680140998432\tLSN: 10.580439991198507\n",
      "The LSN that is required to make our measured deviation from background statistically significant at alpha=0.05 is 11.\n"
     ]
    }
   ],
   "source": [
    "# (f)\n",
    "\n",
    "our_difference = mean - bg_level\n",
    "\n",
    "def get_t_crit(n):\n",
    "    return sp.t.ppf(0.95, df=n-1)\n",
    "\n",
    "def LSN_wrap(t_crit, diff, sd):\n",
    "    return ((t_crit * sd) / abs(diff)) ** 2\n",
    "    \n",
    "def LSN(diff=our_difference, sd=sd, guess_n=10):\n",
    "    t_crit = get_t_crit(guess_n)\n",
    "    print(f\"Guess n: {m.ceil(guess_n)}\\tTcrit: {t_crit}\\tLSN: {LSN_wrap(t_crit, diff, sd)}\")\n",
    "    if m.ceil(abs(LSN_wrap(t_crit, diff, sd))) == m.ceil(abs(guess_n)):\n",
    "        return m.ceil(guess_n)\n",
    "    guess_LSN = LSN_wrap(t_crit, diff, sd)\n",
    "    \n",
    "    if m.ceil(abs(guess_LSN)) == m.ceil(abs(LSN(diff, sd, guess_LSN))):\n",
    "        return m.ceil(guess_LSN)\n",
    "    return LSN(diff, sd, guess_LSN)\n",
    "\n",
    "lsn = LSN()\n",
    "print(f\"The LSN that is required to make our measured deviation from background statistically significant at alpha=0.05 is {lsn}.\")"
   ]
  },
  {
   "cell_type": "code",
   "execution_count": 46,
   "id": "5affcbad-ccf5-47dc-b8c6-e1bdcd1c73d0",
   "metadata": {},
   "outputs": [
    {
     "name": "stdout",
     "output_type": "stream",
     "text": [
      "The approximate power my test is 0.6130742823406763, the value of beta is 0.3869257176593237, and beta is the probability of a false negative.\n"
     ]
    },
    {
     "data": {
      "text/plain": [
       "(2.4392856007842645, 0.3074388194479747)"
      ]
     },
     "execution_count": 46,
     "metadata": {},
     "output_type": "execute_result"
    }
   ],
   "source": [
    "# (g)\n",
    "\n",
    "elevated_n = 5\n",
    "elevated_df = elevated_n - 1\n",
    "dev = 25\n",
    "\n",
    "el_t = dev / (sd / m.sqrt(elevated_n))\n",
    "el_t\n",
    "p = 1 - sp.t.cdf(el_t, df=elevated_df)\n",
    "\n",
    "t_beta = el_t - sp.t.ppf(1-.05, df=elevated_df)\n",
    "beta = 1 - sp.t.cdf(t_beta, df=elevated_df)\n",
    "beta\n",
    "power = 1 - beta\n",
    "power\n",
    "\n",
    "print(f\"The approximate power my test is {power}, the value of beta is {beta}, and beta is the probability of a false negative.\")\n",
    "el_t, t_beta"
   ]
  },
  {
   "cell_type": "code",
   "execution_count": 13,
   "id": "51eaee97-536f-4adc-83fd-80d030576076",
   "metadata": {},
   "outputs": [
    {
     "data": {
      "text/plain": [
       "(2.727204209945015, 0.5953574286087253)"
      ]
     },
     "execution_count": 13,
     "metadata": {},
     "output_type": "execute_result"
    }
   ],
   "source": [
    "el_t, t_beta"
   ]
  },
  {
   "cell_type": "code",
   "execution_count": 81,
   "id": "efcdde77-a3db-40a0-ac57-94e5f68ca417",
   "metadata": {},
   "outputs": [
    {
     "name": "stdout",
     "output_type": "stream",
     "text": [
      "The MDD is 37.56277097965761.\n",
      "We should plan on a sample size of at least 47 to to detect deviations of 10 ppb with a reliability of 90%.\n",
      "20.638376578951394\n",
      "21.287801478831675\n",
      "21.948274689284315\n",
      "22.61979626289932\n",
      "23.302366308212886\n",
      "23.99598498342351\n",
      "24.70065249090564\n",
      "25.41636907187754\n",
      "26.143135000310647\n",
      "26.88095058360654\n",
      "27.62981615411284\n",
      "28.389732067522722\n",
      "29.16069870259996\n",
      "29.942716450838667\n",
      "30.735785721473476\n",
      "31.53990693470648\n",
      "32.355080526493566\n",
      "33.18130693983476\n",
      "34.018586628770755\n",
      "34.86692004722688\n",
      "35.72630765783285\n",
      "36.59674992729601\n",
      "37.47824732538229\n",
      "38.37080032400218\n",
      "39.27440939639143\n",
      "40.189075016377224\n",
      "41.114797657721695\n",
      "42.05157779353514\n",
      "42.99941589575234\n",
      "43.95831243466594\n",
      "44.92826787851128\n",
      "45.909282693097914\n",
      "46.90135734148328\n"
     ]
    },
    {
     "data": {
      "text/plain": [
       "47"
      ]
     },
     "execution_count": 81,
     "metadata": {},
     "output_type": "execute_result"
    }
   ],
   "source": [
    "# (h)\n",
    "\n",
    "def MDD(n, sd=sd):\n",
    "    mdd = (sp.t.ppf(.95, n-1) + sp.t.ppf(.90, n-1)) * (sd / m.sqrt(n))\n",
    "    # print(f\"n={n}\\tStderr={sd/m.sqrt(n)}\\tMDD={mdd}\\tt_alpha={sp.t.ppf(.95, n-1)}\\tt_beta={sp.t.ppf(.9, n-1)}\")\n",
    "    return (sp.t.ppf(.95, n-1) + sp.t.ppf(.90, n-1)) * (sd / m.sqrt(n))\n",
    "\n",
    "min_dd = MDD(5)\n",
    "min_dd\n",
    "\n",
    "print(f\"The MDD is {min_dd}.\")\n",
    "\n",
    "# (i)\n",
    "\n",
    "n_for_10_mdd = 2\n",
    "while min_dd > 10:\n",
    "    min_dd = MDD(n_for_10_mdd)\n",
    "    n_for_10_mdd += 1\n",
    "\n",
    "print(f\"We should plan on a sample size of at least {n_for_10_mdd - 1} to to detect deviations of 10 ppb with a reliability of 90%.\")\n",
    "\n",
    "def get_t_crit(n):\n",
    "    return sp.t.ppf(0.95, df=n-1)\n",
    "    \n",
    "def MDD_10(guess_n=20):\n",
    "    # print(f\"Guess n: {m.ceil(guess_n)}\\tTcrit: {t_crit}\\tLSN: {LSN_wrap(t_crit, diff, sd)}\")\n",
    "    if MDD(guess_n) <= 10:\n",
    "        return m.ceil(guess_n)\n",
    "    guess_MDD = MDD(guess_n)\n",
    "    next_n = guess_n + (10/guess_MDD)\n",
    "    print(next_n)\n",
    "    if guess_MDD <= 10:\n",
    "        return guess_MDD\n",
    "    return MDD_10(next_n)\n",
    "MDD_10()"
   ]
  },
  {
   "cell_type": "code",
   "execution_count": null,
   "id": "e661e97d-cc21-4d10-9608-b454979c1b6f",
   "metadata": {},
   "outputs": [],
   "source": []
  },
  {
   "cell_type": "code",
   "execution_count": null,
   "id": "b5135790-8181-4d6f-961e-1e996b7466b3",
   "metadata": {},
   "outputs": [],
   "source": []
  },
  {
   "cell_type": "code",
   "execution_count": null,
   "id": "b6b96b57-bca9-4c0f-be3d-57fd605863f9",
   "metadata": {},
   "outputs": [],
   "source": []
  }
 ],
 "metadata": {
  "kernelspec": {
   "display_name": "Python 3 (ipykernel)",
   "language": "python",
   "name": "python3"
  },
  "language_info": {
   "codemirror_mode": {
    "name": "ipython",
    "version": 3
   },
   "file_extension": ".py",
   "mimetype": "text/x-python",
   "name": "python",
   "nbconvert_exporter": "python",
   "pygments_lexer": "ipython3",
   "version": "3.10.9"
  }
 },
 "nbformat": 4,
 "nbformat_minor": 5
}
